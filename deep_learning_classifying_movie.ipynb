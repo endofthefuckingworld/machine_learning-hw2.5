{
 "cells": [
  {
   "cell_type": "code",
   "execution_count": 1,
   "id": "cd75c87c",
   "metadata": {},
   "outputs": [
    {
     "data": {
      "text/plain": [
       "'2.4.3'"
      ]
     },
     "execution_count": 1,
     "metadata": {},
     "output_type": "execute_result"
    }
   ],
   "source": [
    "import keras\n",
    "import numpy as np\n",
    "keras.__version__"
   ]
  },
  {
   "cell_type": "code",
   "execution_count": 2,
   "id": "25f65a56",
   "metadata": {},
   "outputs": [],
   "source": [
    "from keras.datasets import imdb"
   ]
  },
  {
   "cell_type": "code",
   "execution_count": 3,
   "id": "75879d81",
   "metadata": {},
   "outputs": [
    {
     "name": "stderr",
     "output_type": "stream",
     "text": [
      "<__array_function__ internals>:5: VisibleDeprecationWarning: Creating an ndarray from ragged nested sequences (which is a list-or-tuple of lists-or-tuples-or ndarrays with different lengths or shapes) is deprecated. If you meant to do this, you must specify 'dtype=object' when creating the ndarray\n",
      "C:\\Users\\Terry\\anaconda3\\lib\\site-packages\\tensorflow\\python\\keras\\datasets\\imdb.py:159: VisibleDeprecationWarning: Creating an ndarray from ragged nested sequences (which is a list-or-tuple of lists-or-tuples-or ndarrays with different lengths or shapes) is deprecated. If you meant to do this, you must specify 'dtype=object' when creating the ndarray\n",
      "  x_train, y_train = np.array(xs[:idx]), np.array(labels[:idx])\n",
      "C:\\Users\\Terry\\anaconda3\\lib\\site-packages\\tensorflow\\python\\keras\\datasets\\imdb.py:160: VisibleDeprecationWarning: Creating an ndarray from ragged nested sequences (which is a list-or-tuple of lists-or-tuples-or ndarrays with different lengths or shapes) is deprecated. If you meant to do this, you must specify 'dtype=object' when creating the ndarray\n",
      "  x_test, y_test = np.array(xs[idx:]), np.array(labels[idx:])\n"
     ]
    }
   ],
   "source": [
    "\"\"\"\n",
    "把所有影評出現的英文單字化為對應之編號。\n",
    "所有影評出現的英文單字依出現頻率排序，num_words=10000即取出現頻率前10000的英文單字，假如影評出現fawn這個單字，但其\n",
    "編號為30000，則超出10000的單字會輸出2。\n",
    "分類結果只有(0差評，1好評)。\n",
    "每一篇影評開頭一定是1。\n",
    "\"\"\"\n",
    "(train_data, train_labels), (test_data, test_labels) = imdb.load_data(num_words=10000)"
   ]
  },
  {
   "cell_type": "code",
   "execution_count": 4,
   "id": "6171b132",
   "metadata": {},
   "outputs": [
    {
     "data": {
      "text/plain": [
       "array(['?', 'this', 'film', 'was', 'just', 'brilliant', 'casting',\n",
       "       'location', 'scenery', 'story', 'direction', \"everyone's\",\n",
       "       'really', 'suited', 'the', 'part', 'they', 'played', 'and', 'you',\n",
       "       'could', 'just', 'imagine', 'being', 'there', 'robert', '?', 'is',\n",
       "       'an', 'amazing', 'actor', 'and', 'now', 'the', 'same', 'being',\n",
       "       'director', '?', 'father', 'came', 'from', 'the', 'same',\n",
       "       'scottish', 'island', 'as', 'myself', 'so', 'i', 'loved', 'the',\n",
       "       'fact', 'there', 'was', 'a', 'real', 'connection', 'with', 'this',\n",
       "       'film', 'the', 'witty', 'remarks', 'throughout', 'the', 'film',\n",
       "       'were', 'great', 'it', 'was', 'just', 'brilliant', 'so', 'much',\n",
       "       'that', 'i', 'bought', 'the', 'film', 'as', 'soon', 'as', 'it',\n",
       "       'was', 'released', 'for', '?', 'and', 'would', 'recommend', 'it',\n",
       "       'to', 'everyone', 'to', 'watch', 'and', 'the', 'fly', 'fishing',\n",
       "       'was', 'amazing', 'really', 'cried', 'at', 'the', 'end', 'it',\n",
       "       'was', 'so', 'sad', 'and', 'you', 'know', 'what', 'they', 'say',\n",
       "       'if', 'you', 'cry', 'at', 'a', 'film', 'it', 'must', 'have',\n",
       "       'been', 'good', 'and', 'this', 'definitely', 'was', 'also', '?',\n",
       "       'to', 'the', 'two', 'little', \"boy's\", 'that', 'played', 'the',\n",
       "       '?', 'of', 'norman', 'and', 'paul', 'they', 'were', 'just',\n",
       "       'brilliant', 'children', 'are', 'often', 'left', 'out', 'of',\n",
       "       'the', '?', 'list', 'i', 'think', 'because', 'the', 'stars',\n",
       "       'that', 'play', 'them', 'all', 'grown', 'up', 'are', 'such', 'a',\n",
       "       'big', 'profile', 'for', 'the', 'whole', 'film', 'but', 'these',\n",
       "       'children', 'are', 'amazing', 'and', 'should', 'be', 'praised',\n",
       "       'for', 'what', 'they', 'have', 'done', \"don't\", 'you', 'think',\n",
       "       'the', 'whole', 'story', 'was', 'so', 'lovely', 'because', 'it',\n",
       "       'was', 'true', 'and', 'was', \"someone's\", 'life', 'after', 'all',\n",
       "       'that', 'was', 'shared', 'with', 'us', 'all'], dtype='<U10')"
      ]
     },
     "execution_count": 4,
     "metadata": {},
     "output_type": "execute_result"
    }
   ],
   "source": [
    "#所有英文字母的編號對應dictionary\n",
    "word_index = imdb.get_word_index()\n",
    "#dict.items()可回傳(key,value)\n",
    "inverse_word_index=dict([(keys,value) for (value,keys) in word_index.items()])\n",
    "#dict.get(key, 'HHHH') 如果該key不存在，用'HHHH'取代\n",
    "#該dict單字編號從3開始，012有其他用途\n",
    "comment_show=np.array([inverse_word_index.get(i-3,'?') for i in train_data[0]])\n",
    "comment_show"
   ]
  },
  {
   "cell_type": "code",
   "execution_count": 5,
   "id": "daf1cfff",
   "metadata": {},
   "outputs": [
    {
     "name": "stdout",
     "output_type": "stream",
     "text": [
      "(25000,) (25000,)\n",
      "(10000,) (15000,) (10000,) (15000,)\n"
     ]
    }
   ],
   "source": [
    "#將25000筆train_data拆成15000做訓練，10000做validation\n",
    "print(train_data.shape,test_data.shape)\n",
    "x_val=train_data[15000:]\n",
    "x_partial_train=train_data[:15000]\n",
    "train_labels=np.array(train_labels, dtype = float)\n",
    "test_labels=np.array(test_labels, dtype = float)\n",
    "y_val=train_labels[15000:]\n",
    "y_partial_train=train_labels[:15000]\n",
    "print(x_val.shape,x_partial_train.shape,y_val.shape,y_partial_train.shape)"
   ]
  },
  {
   "cell_type": "code",
   "execution_count": 6,
   "id": "53df4cf7",
   "metadata": {},
   "outputs": [
    {
     "data": {
      "text/plain": [
       "array([[0., 1., 1., ..., 0., 0., 0.],\n",
       "       [0., 1., 1., ..., 0., 0., 0.],\n",
       "       [0., 1., 1., ..., 0., 0., 0.]])"
      ]
     },
     "execution_count": 6,
     "metadata": {},
     "output_type": "execute_result"
    }
   ],
   "source": [
    "#由於總共有10000種單字(其實應該是10000-3)，因此將資料化為一個二維矩陣，(samples個數,幾種單字)，讓每筆資料都能有相同長度\n",
    "#如果該單字在影評中出現，該單字編號對應的位置由0變1\n",
    "#不考慮重複出現之單字，因為分類結果只有(0壞，1好)影評\n",
    "def vectorize_sequences(comments, dimension=10000):\n",
    "    results = np.zeros((len(comments), dimension))\n",
    "    #enumerate，像dict.items()一樣，一次回傳(位置,值)\n",
    "    for i,sequence in enumerate(comments):\n",
    "        results[i,sequence]=1.\n",
    "    return results\n",
    "vectorize_sequences(x_partial_train[:3], dimension=10000)"
   ]
  },
  {
   "cell_type": "code",
   "execution_count": 7,
   "id": "792627b3",
   "metadata": {},
   "outputs": [
    {
     "name": "stdout",
     "output_type": "stream",
     "text": [
      "(15000, 10000) (10000, 10000) (25000, 10000)\n"
     ]
    }
   ],
   "source": [
    "x_partial_train = vectorize_sequences(x_partial_train)\n",
    "x_val=vectorize_sequences(x_val)\n",
    "x_test = vectorize_sequences(test_data)\n",
    "x_train=vectorize_sequences(train_data)\n",
    "print(x_partial_train.shape,x_val.shape,x_test.shape)"
   ]
  },
  {
   "cell_type": "code",
   "execution_count": 8,
   "id": "d11bd845",
   "metadata": {},
   "outputs": [],
   "source": [
    "from keras import models\n",
    "from keras import layers\n",
    "# input_shape=(10000,)，去掉smaples的維度\n",
    "# models.Sequential()純粹一層接一層連接在一起\n",
    "# relu: f(x)=0 if x<0, f(x)=x if x>=0\n",
    "model = models.Sequential()\n",
    "model.add(layers.Dense(16, activation='relu', input_shape=(10000,)))\n",
    "model.add(layers.Dense(16, activation='relu'))\n",
    "model.add(layers.Dense(1, activation='sigmoid'))"
   ]
  },
  {
   "cell_type": "code",
   "execution_count": 9,
   "id": "3e46e8a1",
   "metadata": {},
   "outputs": [],
   "source": [
    "model.compile(optimizer='rmsprop',\n",
    "              loss='binary_crossentropy',\n",
    "              metrics=['accuracy'])"
   ]
  },
  {
   "cell_type": "code",
   "execution_count": 10,
   "id": "75f2f967",
   "metadata": {},
   "outputs": [
    {
     "name": "stdout",
     "output_type": "stream",
     "text": [
      "Epoch 1/20\n",
      "30/30 [==============================] - 1s 42ms/step - loss: 0.5325 - accuracy: 0.7703 - val_loss: 0.4153 - val_accuracy: 0.8579\n",
      "Epoch 2/20\n",
      "30/30 [==============================] - 1s 39ms/step - loss: 0.3288 - accuracy: 0.8968 - val_loss: 0.3162 - val_accuracy: 0.8893\n",
      "Epoch 3/20\n",
      "30/30 [==============================] - 1s 29ms/step - loss: 0.2400 - accuracy: 0.9266 - val_loss: 0.2858 - val_accuracy: 0.8899\n",
      "Epoch 4/20\n",
      "30/30 [==============================] - 1s 29ms/step - loss: 0.1904 - accuracy: 0.9414 - val_loss: 0.2736 - val_accuracy: 0.8924\n",
      "Epoch 5/20\n",
      "30/30 [==============================] - 1s 27ms/step - loss: 0.1539 - accuracy: 0.9514 - val_loss: 0.2795 - val_accuracy: 0.8892\n",
      "Epoch 6/20\n",
      "30/30 [==============================] - 1s 29ms/step - loss: 0.1289 - accuracy: 0.9599 - val_loss: 0.2886 - val_accuracy: 0.8894\n",
      "Epoch 7/20\n",
      "30/30 [==============================] - 1s 28ms/step - loss: 0.1048 - accuracy: 0.9682 - val_loss: 0.3024 - val_accuracy: 0.8868\n",
      "Epoch 8/20\n",
      "30/30 [==============================] - 1s 29ms/step - loss: 0.0884 - accuracy: 0.9753 - val_loss: 0.3237 - val_accuracy: 0.8835\n",
      "Epoch 9/20\n",
      "30/30 [==============================] - 1s 27ms/step - loss: 0.0737 - accuracy: 0.9795 - val_loss: 0.3474 - val_accuracy: 0.8792\n",
      "Epoch 10/20\n",
      "30/30 [==============================] - 1s 26ms/step - loss: 0.0620 - accuracy: 0.9835 - val_loss: 0.3755 - val_accuracy: 0.8792\n",
      "Epoch 11/20\n",
      "30/30 [==============================] - 1s 27ms/step - loss: 0.0514 - accuracy: 0.9873 - val_loss: 0.3925 - val_accuracy: 0.8776\n",
      "Epoch 12/20\n",
      "30/30 [==============================] - 1s 26ms/step - loss: 0.0408 - accuracy: 0.9909 - val_loss: 0.4211 - val_accuracy: 0.8747\n",
      "Epoch 13/20\n",
      "30/30 [==============================] - 1s 29ms/step - loss: 0.0351 - accuracy: 0.9929 - val_loss: 0.4769 - val_accuracy: 0.8724\n",
      "Epoch 14/20\n",
      "30/30 [==============================] - 1s 27ms/step - loss: 0.0274 - accuracy: 0.9949 - val_loss: 0.4790 - val_accuracy: 0.8726\n",
      "Epoch 15/20\n",
      "30/30 [==============================] - 1s 29ms/step - loss: 0.0226 - accuracy: 0.9959 - val_loss: 0.5158 - val_accuracy: 0.8697\n",
      "Epoch 16/20\n",
      "30/30 [==============================] - 1s 27ms/step - loss: 0.0180 - accuracy: 0.9969 - val_loss: 0.5655 - val_accuracy: 0.8693\n",
      "Epoch 17/20\n",
      "30/30 [==============================] - 1s 25ms/step - loss: 0.0154 - accuracy: 0.9975 - val_loss: 0.5838 - val_accuracy: 0.8692\n",
      "Epoch 18/20\n",
      "30/30 [==============================] - 1s 28ms/step - loss: 0.0124 - accuracy: 0.9981 - val_loss: 0.6184 - val_accuracy: 0.8681\n",
      "Epoch 19/20\n",
      "30/30 [==============================] - 1s 28ms/step - loss: 0.0075 - accuracy: 0.9993 - val_loss: 0.6643 - val_accuracy: 0.8663\n",
      "Epoch 20/20\n",
      "30/30 [==============================] - 1s 27ms/step - loss: 0.0081 - accuracy: 0.9991 - val_loss: 0.6911 - val_accuracy: 0.8667\n"
     ]
    }
   ],
   "source": [
    "history = model.fit(x_partial_train,\n",
    "                    y_partial_train,\n",
    "                    epochs=20,\n",
    "                    batch_size=512,\n",
    "                    validation_data=(x_val, y_val))"
   ]
  },
  {
   "cell_type": "code",
   "execution_count": 11,
   "id": "b89a07ec",
   "metadata": {},
   "outputs": [
    {
     "data": {
      "text/plain": [
       "dict_keys(['loss', 'accuracy', 'val_loss', 'val_accuracy'])"
      ]
     },
     "execution_count": 11,
     "metadata": {},
     "output_type": "execute_result"
    }
   ],
   "source": [
    "import matplotlib.pyplot as plt\n",
    "plt.style.use(\"seaborn\")\n",
    "history_dict = history.history\n",
    "history_dict.keys()"
   ]
  },
  {
   "cell_type": "code",
   "execution_count": 21,
   "id": "6c263f82",
   "metadata": {},
   "outputs": [
    {
     "data": {
      "image/png": "[encoded data removed]",
      "text/plain": [
       "<Figure size 576x396 with 1 Axes>"
      ]
     },
     "metadata": {},
     "output_type": "display_data"
    }
   ],
   "source": [
    "#將各個epoch的training data,validation data的適配結果顯現出來\n",
    "#可以看到epoch=4之後有overfitting的問題\n",
    "#因此epoch應該等於4即可\n",
    "def plot_Training_validation_loss(history_dict,title):\n",
    "    epoch=np.arange(1,len(history_dict['loss'])+1)\n",
    "    plt.plot(epoch, history_dict['loss'], '-', label='Training loss')\n",
    "    plt.plot(epoch, history_dict['val_loss'], '-', label='Validation loss')\n",
    "    plt.title(title)\n",
    "    plt.xlabel('Epochs')\n",
    "    x_major_locator=plt.MultipleLocator(1)\n",
    "    plt.gca().xaxis.set_major_locator(x_major_locator)\n",
    "    plt.xlim(1,len(epoch))\n",
    "    plt.ylabel('Loss')\n",
    "    plt.legend()\n",
    "    plt.show()\n",
    "    \n",
    "plot_Training_validation_loss(history_dict,'Training and validation loss')"
   ]
  },
  {
   "cell_type": "code",
   "execution_count": 16,
   "id": "d3267128",
   "metadata": {},
   "outputs": [
    {
     "name": "stdout",
     "output_type": "stream",
     "text": [
      "Epoch 1/4\n",
      "49/49 [==============================] - 1s 20ms/step - loss: 0.4596 - accuracy: 0.8156\n",
      "Epoch 2/4\n",
      "49/49 [==============================] - 1s 20ms/step - loss: 0.2652 - accuracy: 0.9082\n",
      "Epoch 3/4\n",
      "49/49 [==============================] - 1s 20ms/step - loss: 0.2023 - accuracy: 0.9280 0s - loss: 0.2037 - accuracy\n",
      "Epoch 4/4\n",
      "49/49 [==============================] - 1s 19ms/step - loss: 0.1706 - accuracy: 0.9405\n",
      "782/782 [==============================] - 2s 2ms/step - loss: 0.2941 - accuracy: 0.8835\n"
     ]
    }
   ],
   "source": [
    "#用全部的training data訓練參數\n",
    "model = models.Sequential()\n",
    "model.add(layers.Dense(16, activation='relu', input_shape=(10000,)))\n",
    "model.add(layers.Dense(16, activation='relu'))\n",
    "model.add(layers.Dense(1, activation='sigmoid'))\n",
    "\n",
    "model.compile(optimizer='rmsprop',\n",
    "              loss='binary_crossentropy',\n",
    "              metrics=['accuracy'])\n",
    "\n",
    "model.fit(x_train,np.array(train_labels), epochs=4, batch_size=512)\n",
    "results = model.evaluate(x_test,np.array(test_labels))"
   ]
  },
  {
   "cell_type": "code",
   "execution_count": 18,
   "id": "0a24fce3",
   "metadata": {},
   "outputs": [
    {
     "data": {
      "text/plain": [
       "[0.29406026005744934, 0.8834800124168396]"
      ]
     },
     "execution_count": 18,
     "metadata": {},
     "output_type": "execute_result"
    }
   ],
   "source": [
    "results"
   ]
  },
  {
   "cell_type": "code",
   "execution_count": 40,
   "id": "a37cf48a",
   "metadata": {},
   "outputs": [
    {
     "name": "stdout",
     "output_type": "stream",
     "text": [
      "Epoch 1/20\n",
      "30/30 [==============================] - 1s 40ms/step - loss: 0.5830 - accuracy: 0.7009 - val_loss: 0.4476 - val_accuracy: 0.8668\n",
      "Epoch 2/20\n",
      "30/30 [==============================] - 1s 26ms/step - loss: 0.3605 - accuracy: 0.8924 - val_loss: 0.3336 - val_accuracy: 0.8880\n",
      "Epoch 3/20\n",
      "30/30 [==============================] - 1s 24ms/step - loss: 0.2532 - accuracy: 0.9243 - val_loss: 0.3110 - val_accuracy: 0.8789\n",
      "Epoch 4/20\n",
      "30/30 [==============================] - 1s 26ms/step - loss: 0.1916 - accuracy: 0.9424 - val_loss: 0.2816 - val_accuracy: 0.8907\n",
      "Epoch 5/20\n",
      "30/30 [==============================] - 1s 26ms/step - loss: 0.1544 - accuracy: 0.9515 - val_loss: 0.2837 - val_accuracy: 0.8876\n",
      "Epoch 6/20\n",
      "30/30 [==============================] - 1s 25ms/step - loss: 0.1250 - accuracy: 0.9625 - val_loss: 0.2995 - val_accuracy: 0.8824\n",
      "Epoch 7/20\n",
      "30/30 [==============================] - 1s 27ms/step - loss: 0.1039 - accuracy: 0.9698 - val_loss: 0.3545 - val_accuracy: 0.8747\n",
      "Epoch 8/20\n",
      "30/30 [==============================] - 1s 25ms/step - loss: 0.0862 - accuracy: 0.9759 - val_loss: 0.3462 - val_accuracy: 0.8789\n",
      "Epoch 9/20\n",
      "30/30 [==============================] - 1s 27ms/step - loss: 0.0696 - accuracy: 0.9819 - val_loss: 0.3534 - val_accuracy: 0.8777\n",
      "Epoch 10/20\n",
      "30/30 [==============================] - 1s 27ms/step - loss: 0.0579 - accuracy: 0.9853 - val_loss: 0.4243 - val_accuracy: 0.8698\n",
      "Epoch 11/20\n",
      "30/30 [==============================] - 1s 28ms/step - loss: 0.0469 - accuracy: 0.9889 - val_loss: 0.4047 - val_accuracy: 0.8763\n",
      "Epoch 12/20\n",
      "30/30 [==============================] - 1s 27ms/step - loss: 0.0377 - accuracy: 0.9925 - val_loss: 0.4396 - val_accuracy: 0.8747\n",
      "Epoch 13/20\n",
      "30/30 [==============================] - 1s 28ms/step - loss: 0.0304 - accuracy: 0.9937 - val_loss: 0.4803 - val_accuracy: 0.8710\n",
      "Epoch 14/20\n",
      "30/30 [==============================] - 1s 25ms/step - loss: 0.0224 - accuracy: 0.9963 - val_loss: 0.5867 - val_accuracy: 0.8610\n",
      "Epoch 15/20\n",
      "30/30 [==============================] - 1s 25ms/step - loss: 0.0225 - accuracy: 0.9949 - val_loss: 0.5362 - val_accuracy: 0.8698\n",
      "Epoch 16/20\n",
      "30/30 [==============================] - 1s 25ms/step - loss: 0.0120 - accuracy: 0.9984 - val_loss: 0.5612 - val_accuracy: 0.8702\n",
      "Epoch 17/20\n",
      "30/30 [==============================] - 1s 25ms/step - loss: 0.0117 - accuracy: 0.9986 - val_loss: 0.5896 - val_accuracy: 0.8694\n",
      "Epoch 18/20\n",
      "30/30 [==============================] - 1s 24ms/step - loss: 0.0115 - accuracy: 0.9974 - val_loss: 0.6415 - val_accuracy: 0.8676\n",
      "Epoch 19/20\n",
      "30/30 [==============================] - 1s 26ms/step - loss: 0.0054 - accuracy: 0.9994 - val_loss: 0.6651 - val_accuracy: 0.8670\n",
      "Epoch 20/20\n",
      "30/30 [==============================] - 1s 25ms/step - loss: 0.0097 - accuracy: 0.9979 - val_loss: 0.7011 - val_accuracy: 0.8665\n"
     ]
    }
   ],
   "source": [
    "model = models.Sequential()\n",
    "model.add(layers.Dense(16, activation='relu', input_shape=(10000,)))\n",
    "model.add(layers.Dense(16, activation='relu'))\n",
    "model.add(layers.Dense(1, activation='sigmoid'))\n",
    "\n",
    "model.compile(optimizer='rmsprop',\n",
    "              loss='binary_crossentropy',\n",
    "              metrics=['accuracy'])\n",
    "\n",
    "history = model.fit(x_partial_train,\n",
    "                    y_partial_train,\n",
    "                    epochs=20,\n",
    "                    batch_size=512,\n",
    "                    validation_data=(x_val, y_val))\n",
    "\n",
    "history_dict = history.history\n"
   ]
  },
  {
   "cell_type": "code",
   "execution_count": 41,
   "id": "9e56fc10",
   "metadata": {},
   "outputs": [
    {
     "data": {
      "image/png": "[encoded data removed]",
      "text/plain": [
       "<Figure size 576x396 with 1 Axes>"
      ]
     },
     "metadata": {},
     "output_type": "display_data"
    }
   ],
   "source": [
    "plot_Training_validation_loss(history_dict,'Using 2 layers with 16 units')"
   ]
  }
 ],
 "metadata": {
  "kernelspec": {
   "display_name": "Python 3",
   "language": "python",
   "name": "python3"
  },
  "language_info": {
   "codemirror_mode": {
    "name": "ipython",
    "version": 3
   },
   "file_extension": ".py",
   "mimetype": "text/x-python",
   "name": "python",
   "nbconvert_exporter": "python",
   "pygments_lexer": "ipython3",
   "version": "3.8.8"
  }
 },
 "nbformat": 4,
 "nbformat_minor": 5
}
