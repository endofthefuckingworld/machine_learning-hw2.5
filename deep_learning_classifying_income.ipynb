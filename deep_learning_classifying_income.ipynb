{
 "cells": [
  {
   "cell_type": "code",
   "execution_count": 1,
   "id": "d25581c1",
   "metadata": {},
   "outputs": [],
   "source": [
    "import numpy as np\n",
    "import pandas as pd\n",
    "import math\n",
    "import keras\n",
    "from matplotlib import pyplot as plt\n",
    "plt.style.use(\"seaborn\")\n",
    "\n"
   ]
  },
  {
   "cell_type": "code",
   "execution_count": 2,
   "id": "2babc7fa",
   "metadata": {},
   "outputs": [
    {
     "data": {
      "text/plain": [
       "array([[-0.42755297,  0.99959458, -0.1822401 , ...,  0.80645987,\n",
       "        -1.01485522,  1.01485522],\n",
       "       [ 1.19978056,  0.99959458, -0.1822401 , ...,  0.80645987,\n",
       "        -1.01485522,  1.01485522],\n",
       "       [ 1.63373617, -1.00040555, -0.1822401 , ..., -1.45536172,\n",
       "        -1.01485522,  1.01485522],\n",
       "       ...,\n",
       "       [-1.34970864, -1.00040555, -0.1822401 , ..., -1.10738916,\n",
       "         0.98536219, -0.98536219],\n",
       "       [ 0.3861138 ,  0.99959458, -0.1822401 , ...,  0.80645987,\n",
       "        -1.01485522,  1.01485522],\n",
       "       [ 0.3861138 , -1.00040555, -0.1822401 , ..., -1.45536172,\n",
       "        -1.01485522,  1.01485522]])"
      ]
     },
     "execution_count": 2,
     "metadata": {},
     "output_type": "execute_result"
    }
   ],
   "source": [
    "X_train=np.array(pd.read_csv('X_train').iloc[:,1:],dtype=float)\n",
    "Y_train=np.array(pd.read_csv('Y_train').iloc[:,1:],dtype=float)\n",
    "\n",
    "#Standardization\n",
    "column = np.arange(X_train.shape[1])  \n",
    "X_mean = np.mean(X_train[:, column] ,axis=0).transpose()\n",
    "X_std  = np.std(X_train[:, column], axis=0).transpose()\n",
    "X_train[:,column] = (X_train[:, column] - X_mean) / (X_std + 1e-8)\n",
    "X_train"
   ]
  },
  {
   "cell_type": "code",
   "execution_count": 3,
   "id": "0fd547ab",
   "metadata": {},
   "outputs": [
    {
     "name": "stdout",
     "output_type": "stream",
     "text": [
      "(43404, 510) (8852, 510) (2000, 510)\n",
      "(43404, 1) (8852, 1) (2000, 1)\n"
     ]
    }
   ],
   "source": [
    "#由於testing data沒有答案，直接將training data分成三份training,validation,testing\n",
    "x_partial_train=X_train[:math.floor(0.8*X_train.shape[0]),:]\n",
    "y_partial_train=Y_train[:math.floor(0.8*X_train.shape[0]),:]\n",
    "x_val=X_train[math.floor(0.8*X_train.shape[0]):-2000,:]\n",
    "y_val=Y_train[math.floor(0.8*X_train.shape[0]):-2000,:]\n",
    "x_test=X_train[-2000:,:]\n",
    "y_test=Y_train[-2000:,:]\n",
    "print(x_partial_train.shape,x_val.shape,x_test.shape)\n",
    "print(y_partial_train.shape,y_val.shape,y_test.shape)"
   ]
  },
  {
   "cell_type": "code",
   "execution_count": 4,
   "id": "f5467a04",
   "metadata": {},
   "outputs": [],
   "source": [
    "from keras import models\n",
    "from keras import layers\n",
    "# input_shape=(10000,)，去掉smaples的維度\n",
    "# models.Sequential()純粹一層接一層連接在一起\n",
    "# relu: f(x)=0 if x<0, f(x)=x if x>=0\n",
    "model = models.Sequential()\n",
    "model.add(layers.Dense(16, activation='relu', input_shape=(510,)))\n",
    "model.add(layers.Dense(16, activation='relu', input_shape=(510,)))\n",
    "model.add(layers.Dense(1, activation='sigmoid'))\n"
   ]
  },
  {
   "cell_type": "code",
   "execution_count": 5,
   "id": "d0a143ac",
   "metadata": {},
   "outputs": [],
   "source": [
    "model.compile(optimizer='rmsprop',\n",
    "              loss='binary_crossentropy',\n",
    "              metrics=['accuracy'])"
   ]
  },
  {
   "cell_type": "code",
   "execution_count": 6,
   "id": "6f5b6958",
   "metadata": {},
   "outputs": [
    {
     "name": "stdout",
     "output_type": "stream",
     "text": [
      "Epoch 1/20\n",
      "85/85 [==============================] - 0s 5ms/step - loss: 0.3917 - accuracy: 0.8223 - val_loss: 0.3165 - val_accuracy: 0.8599\n",
      "Epoch 2/20\n",
      "85/85 [==============================] - 0s 3ms/step - loss: 0.2928 - accuracy: 0.8703 - val_loss: 0.3017 - val_accuracy: 0.8655\n",
      "Epoch 3/20\n",
      "85/85 [==============================] - 0s 3ms/step - loss: 0.2765 - accuracy: 0.8790 - val_loss: 0.2944 - val_accuracy: 0.8693\n",
      "Epoch 4/20\n",
      "85/85 [==============================] - 0s 3ms/step - loss: 0.2674 - accuracy: 0.8838 - val_loss: 0.2907 - val_accuracy: 0.8700\n",
      "Epoch 5/20\n",
      "85/85 [==============================] - 0s 3ms/step - loss: 0.2618 - accuracy: 0.8861 - val_loss: 0.2894 - val_accuracy: 0.8736\n",
      "Epoch 6/20\n",
      "85/85 [==============================] - 0s 3ms/step - loss: 0.2573 - accuracy: 0.8889 - val_loss: 0.2885 - val_accuracy: 0.8735\n",
      "Epoch 7/20\n",
      "85/85 [==============================] - 0s 4ms/step - loss: 0.2542 - accuracy: 0.8899 - val_loss: 0.2869 - val_accuracy: 0.8748\n",
      "Epoch 8/20\n",
      "85/85 [==============================] - 0s 3ms/step - loss: 0.2509 - accuracy: 0.8917 - val_loss: 0.2868 - val_accuracy: 0.8752\n",
      "Epoch 9/20\n",
      "85/85 [==============================] - 0s 3ms/step - loss: 0.2485 - accuracy: 0.8931 - val_loss: 0.2871 - val_accuracy: 0.8747\n",
      "Epoch 10/20\n",
      "85/85 [==============================] - 0s 3ms/step - loss: 0.2464 - accuracy: 0.8940 - val_loss: 0.2866 - val_accuracy: 0.8749\n",
      "Epoch 11/20\n",
      "85/85 [==============================] - 0s 3ms/step - loss: 0.2442 - accuracy: 0.8957 - val_loss: 0.2874 - val_accuracy: 0.8740\n",
      "Epoch 12/20\n",
      "85/85 [==============================] - 0s 3ms/step - loss: 0.2425 - accuracy: 0.8966 - val_loss: 0.2884 - val_accuracy: 0.8734\n",
      "Epoch 13/20\n",
      "85/85 [==============================] - 0s 3ms/step - loss: 0.2409 - accuracy: 0.8972 - val_loss: 0.2904 - val_accuracy: 0.8745\n",
      "Epoch 14/20\n",
      "85/85 [==============================] - 0s 3ms/step - loss: 0.2396 - accuracy: 0.8972 - val_loss: 0.2892 - val_accuracy: 0.8742\n",
      "Epoch 15/20\n",
      "85/85 [==============================] - 0s 3ms/step - loss: 0.2381 - accuracy: 0.8988 - val_loss: 0.2894 - val_accuracy: 0.8748\n",
      "Epoch 16/20\n",
      "85/85 [==============================] - 0s 3ms/step - loss: 0.2367 - accuracy: 0.8989 - val_loss: 0.2891 - val_accuracy: 0.8736\n",
      "Epoch 17/20\n",
      "85/85 [==============================] - 0s 3ms/step - loss: 0.2352 - accuracy: 0.8999 - val_loss: 0.2891 - val_accuracy: 0.8770\n",
      "Epoch 18/20\n",
      "85/85 [==============================] - 0s 3ms/step - loss: 0.2342 - accuracy: 0.8998 - val_loss: 0.2898 - val_accuracy: 0.8738\n",
      "Epoch 19/20\n",
      "85/85 [==============================] - 0s 3ms/step - loss: 0.2330 - accuracy: 0.9009 - val_loss: 0.2907 - val_accuracy: 0.8752\n",
      "Epoch 20/20\n",
      "85/85 [==============================] - 0s 3ms/step - loss: 0.2319 - accuracy: 0.9021 - val_loss: 0.2932 - val_accuracy: 0.8746\n"
     ]
    }
   ],
   "source": [
    "history = model.fit(x_partial_train,\n",
    "                    y_partial_train,\n",
    "                    epochs=20,\n",
    "                    batch_size=512,\n",
    "                    validation_data=(x_val, y_val))"
   ]
  },
  {
   "cell_type": "code",
   "execution_count": 7,
   "id": "7318a82f",
   "metadata": {},
   "outputs": [],
   "source": [
    "import matplotlib.pyplot as plt\n",
    "plt.style.use(\"seaborn\")\n",
    "history_dict = history.history"
   ]
  },
  {
   "cell_type": "code",
   "execution_count": 8,
   "id": "1d18fd26",
   "metadata": {},
   "outputs": [
    {
     "data": {
      "image/png": "[encoded data removed]",
      "text/plain": [
       "<Figure size 576x396 with 1 Axes>"
      ]
     },
     "metadata": {},
     "output_type": "display_data"
    }
   ],
   "source": [
    "def plot_Training_validation_loss(history_dict,title):\n",
    "    epoch=np.arange(1,len(history_dict['loss'])+1)\n",
    "    plt.plot(epoch, history_dict['loss'], '-', label='Training loss')\n",
    "    plt.plot(epoch, history_dict['val_loss'], '-', label='Validation loss')\n",
    "    plt.title(title)\n",
    "    plt.xlabel('Epochs')\n",
    "    x_major_locator=plt.MultipleLocator(1)\n",
    "    plt.gca().xaxis.set_major_locator(x_major_locator)\n",
    "    plt.xlim(1,len(epoch))\n",
    "    plt.ylabel('Loss')\n",
    "    plt.legend()\n",
    "    plt.show()\n",
    "    \n",
    "plot_Training_validation_loss(history_dict,'Training and validation loss')"
   ]
  },
  {
   "cell_type": "code",
   "execution_count": 10,
   "id": "eb7a9dfa",
   "metadata": {},
   "outputs": [
    {
     "name": "stdout",
     "output_type": "stream",
     "text": [
      "Epoch 1/7\n",
      "103/103 [==============================] - 0s 4ms/step - loss: 0.4140 - accuracy: 0.8145\n",
      "Epoch 2/7\n",
      "103/103 [==============================] - 0s 3ms/step - loss: 0.2919 - accuracy: 0.8722\n",
      "Epoch 3/7\n",
      "103/103 [==============================] - 0s 3ms/step - loss: 0.2755 - accuracy: 0.8802\n",
      "Epoch 4/7\n",
      "103/103 [==============================] - 0s 3ms/step - loss: 0.2679 - accuracy: 0.8837\n",
      "Epoch 5/7\n",
      "103/103 [==============================] - 0s 4ms/step - loss: 0.2626 - accuracy: 0.8873: 0s - loss: 0.2621 - accuracy: 0.88\n",
      "Epoch 6/7\n",
      "103/103 [==============================] - 0s 3ms/step - loss: 0.2592 - accuracy: 0.8874\n",
      "Epoch 7/7\n",
      "103/103 [==============================] - 0s 3ms/step - loss: 0.2561 - accuracy: 0.8885\n",
      "63/63 [==============================] - 0s 792us/step - loss: 0.3022 - accuracy: 0.8715\n"
     ]
    }
   ],
   "source": [
    "model = models.Sequential()\n",
    "model.add(layers.Dense(16, activation='relu', input_shape=(510,)))\n",
    "model.add(layers.Dense(16, activation='relu', input_shape=(510,)))\n",
    "model.add(layers.Dense(1, activation='sigmoid'))\n",
    "\n",
    "model.compile(optimizer='rmsprop',\n",
    "              loss='binary_crossentropy',\n",
    "              metrics=['accuracy'])\n",
    "\n",
    "model.fit(X_train[:-2000,:],Y_train[:-2000,:], epochs=7, batch_size=512)\n",
    "results = model.evaluate(x_test,y_test)"
   ]
  }
 ],
 "metadata": {
  "kernelspec": {
   "display_name": "Python 3",
   "language": "python",
   "name": "python3"
  },
  "language_info": {
   "codemirror_mode": {
    "name": "ipython",
    "version": 3
   },
   "file_extension": ".py",
   "mimetype": "text/x-python",
   "name": "python",
   "nbconvert_exporter": "python",
   "pygments_lexer": "ipython3",
   "version": "3.8.8"
  }
 },
 "nbformat": 4,
 "nbformat_minor": 5
}
