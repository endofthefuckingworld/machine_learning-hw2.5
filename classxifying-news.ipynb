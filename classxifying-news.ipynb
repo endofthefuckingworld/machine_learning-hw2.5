{
 "cells": [
  {
   "cell_type": "code",
   "execution_count": 9,
   "id": "b99647d8",
   "metadata": {},
   "outputs": [],
   "source": [
    "import keras\n",
    "import numpy as np\n",
    "from keras.datasets import reuters\n",
    "\n",
    "(train_data, train_labels), (test_data, test_labels) = reuters.load_data(num_words=10000)\n",
    "word_index = reuters.get_word_index()\n",
    "reverse_word_index=dict([(value,key) for (key,value) in word_index.items()])"
   ]
  },
  {
   "cell_type": "code",
   "execution_count": 20,
   "id": "bd296f13",
   "metadata": {},
   "outputs": [],
   "source": [
    "train_x=np.zeros([train_data.shape[0],10000],dtype=float)\n",
    "test_x=np.zeros([test_data.shape[0],10000],dtype=float)\n",
    "train_y=np.zeros([train_data.shape[0],46],dtype=float)\n",
    "test_y=np.zeros([test_data.shape[0],46],dtype=float)\n",
    "\n",
    "def vectorize_sequences(data ,sequences):\n",
    "    for i,sequence in enumerate(sequences):\n",
    "        data[i,sequence]=1.\n",
    "    return data\n",
    "\n",
    "train_x=vectorize_sequences(train_x , train_data)\n",
    "train_y=vectorize_sequences(train_y, train_labels)\n",
    "test_x=vectorize_sequences(test_x , test_data)\n",
    "test_y=vectorize_sequences(test_y ,test_labels )\n"
   ]
  },
  {
   "cell_type": "code",
   "execution_count": 23,
   "id": "fc227fd2",
   "metadata": {},
   "outputs": [
    {
     "name": "stdout",
     "output_type": "stream",
     "text": [
      "Model: \"sequential_2\"\n",
      "_________________________________________________________________\n",
      "Layer (type)                 Output Shape              Param #   \n",
      "=================================================================\n",
      "dense_6 (Dense)              (None, 64)                640064    \n",
      "_________________________________________________________________\n",
      "dense_7 (Dense)              (None, 64)                4160      \n",
      "_________________________________________________________________\n",
      "dense_8 (Dense)              (None, 46)                2990      \n",
      "=================================================================\n",
      "Total params: 647,214\n",
      "Trainable params: 647,214\n",
      "Non-trainable params: 0\n",
      "_________________________________________________________________\n"
     ]
    }
   ],
   "source": [
    "from keras import models\n",
    "from keras import layers\n",
    "\n",
    "model = models.Sequential()\n",
    "model.add(layers.Dense(64, activation='relu', input_shape=(10000,)))\n",
    "model.add(layers.Dense(64, activation='relu'))\n",
    "model.add(layers.Dense(46, activation='softmax'))\n",
    "\n",
    "#第一層: (10000+1)*64 parameters\n",
    "#第二層: (64+1)*64 parameters\n",
    "#第三層: (64+1)*46 parameters\n",
    "model.summary()   "
   ]
  },
  {
   "cell_type": "code",
   "execution_count": 25,
   "id": "ffe4e33c",
   "metadata": {},
   "outputs": [],
   "source": [
    "model.compile(optimizer='rmsprop',\n",
    "              loss='categorical_crossentropy',\n",
    "              metrics=['accuracy'])"
   ]
  },
  {
   "cell_type": "code",
   "execution_count": 27,
   "id": "8625544f",
   "metadata": {},
   "outputs": [
    {
     "name": "stdout",
     "output_type": "stream",
     "text": [
      "Epoch 1/20\n",
      "16/16 [==============================] - 1s 49ms/step - loss: 2.5970 - accuracy: 0.5071 - val_loss: 1.7226 - val_accuracy: 0.6270\n",
      "Epoch 2/20\n",
      "16/16 [==============================] - 1s 33ms/step - loss: 1.4155 - accuracy: 0.6969 - val_loss: 1.3061 - val_accuracy: 0.7090\n",
      "Epoch 3/20\n",
      "16/16 [==============================] - 1s 43ms/step - loss: 1.0477 - accuracy: 0.7734 - val_loss: 1.1566 - val_accuracy: 0.7480\n",
      "Epoch 4/20\n",
      "16/16 [==============================] - 1s 37ms/step - loss: 0.8184 - accuracy: 0.8236 - val_loss: 1.0346 - val_accuracy: 0.7780\n",
      "Epoch 5/20\n",
      "16/16 [==============================] - 1s 36ms/step - loss: 0.6402 - accuracy: 0.8628 - val_loss: 0.9505 - val_accuracy: 0.8000\n",
      "Epoch 6/20\n",
      "16/16 [==============================] - 1s 37ms/step - loss: 0.5075 - accuracy: 0.8919 - val_loss: 0.9200 - val_accuracy: 0.8060\n",
      "Epoch 7/20\n",
      "16/16 [==============================] - 1s 42ms/step - loss: 0.4018 - accuracy: 0.9152 - val_loss: 0.8879 - val_accuracy: 0.8130\n",
      "Epoch 8/20\n",
      "16/16 [==============================] - 1s 33ms/step - loss: 0.3278 - accuracy: 0.9302 - val_loss: 0.9232 - val_accuracy: 0.8040\n",
      "Epoch 9/20\n",
      "16/16 [==============================] - 1s 47ms/step - loss: 0.2731 - accuracy: 0.9401 - val_loss: 0.8990 - val_accuracy: 0.8080\n",
      "Epoch 10/20\n",
      "16/16 [==============================] - 1s 45ms/step - loss: 0.2312 - accuracy: 0.9455 - val_loss: 0.9097 - val_accuracy: 0.8160\n",
      "Epoch 11/20\n",
      "16/16 [==============================] - 1s 44ms/step - loss: 0.1974 - accuracy: 0.9508 - val_loss: 0.9415 - val_accuracy: 0.8150\n",
      "Epoch 12/20\n",
      "16/16 [==============================] - 1s 45ms/step - loss: 0.1742 - accuracy: 0.9513 - val_loss: 0.9456 - val_accuracy: 0.8070\n",
      "Epoch 13/20\n",
      "16/16 [==============================] - 1s 42ms/step - loss: 0.1576 - accuracy: 0.9535 - val_loss: 0.9553 - val_accuracy: 0.8070\n",
      "Epoch 14/20\n",
      "16/16 [==============================] - 1s 44ms/step - loss: 0.1454 - accuracy: 0.9554 - val_loss: 0.9665 - val_accuracy: 0.8070\n",
      "Epoch 15/20\n",
      "16/16 [==============================] - 1s 46ms/step - loss: 0.1333 - accuracy: 0.9573 - val_loss: 0.9906 - val_accuracy: 0.8080\n",
      "Epoch 16/20\n",
      "16/16 [==============================] - 1s 36ms/step - loss: 0.1278 - accuracy: 0.9554 - val_loss: 1.0227 - val_accuracy: 0.8030\n",
      "Epoch 17/20\n",
      "16/16 [==============================] - 1s 40ms/step - loss: 0.1184 - accuracy: 0.9585 - val_loss: 1.1026 - val_accuracy: 0.7830\n",
      "Epoch 18/20\n",
      "16/16 [==============================] - 1s 40ms/step - loss: 0.1173 - accuracy: 0.9574 - val_loss: 1.1543 - val_accuracy: 0.7780\n",
      "Epoch 19/20\n",
      "16/16 [==============================] - 1s 35ms/step - loss: 0.1154 - accuracy: 0.9568 - val_loss: 1.1080 - val_accuracy: 0.7910\n",
      "Epoch 20/20\n",
      "16/16 [==============================] - 1s 38ms/step - loss: 0.1076 - accuracy: 0.9579 - val_loss: 1.0618 - val_accuracy: 0.7980\n"
     ]
    }
   ],
   "source": [
    "x_val = train_x[:1000]\n",
    "partial_x_train = train_x[1000:]\n",
    "\n",
    "y_val = train_y[:1000]\n",
    "partial_y_train =train_y[1000:]\n",
    "\n",
    "history = model.fit(partial_x_train,\n",
    "                    partial_y_train,\n",
    "                    epochs=20,\n",
    "                    batch_size=512,\n",
    "                    validation_data=(x_val, y_val))"
   ]
  },
  {
   "cell_type": "code",
   "execution_count": 28,
   "id": "4b327bad",
   "metadata": {},
   "outputs": [
    {
     "data": {
      "image/png": "[encoded data removed]",
      "text/plain": [
       "<Figure size 576x396 with 1 Axes>"
      ]
     },
     "metadata": {},
     "output_type": "display_data"
    }
   ],
   "source": [
    "import matplotlib.pyplot as plt\n",
    "plt.style.use(\"seaborn\")\n",
    "history_dict = history.history\n",
    "\n",
    "def plot_Training_validation_loss(history_dict,title):\n",
    "    epoch=np.arange(1,len(history_dict['loss'])+1)\n",
    "    plt.plot(epoch, history_dict['loss'], '-', label='Training loss')\n",
    "    plt.plot(epoch, history_dict['val_loss'], '-', label='Validation loss')\n",
    "    plt.title(title)\n",
    "    plt.xlabel('Epochs')\n",
    "    x_major_locator=plt.MultipleLocator(1)\n",
    "    plt.gca().xaxis.set_major_locator(x_major_locator)\n",
    "    plt.xlim(1,len(epoch))\n",
    "    plt.ylabel('Loss')\n",
    "    plt.legend()\n",
    "    plt.show()\n",
    "\n",
    "#大概epoch=7以後就有overfitting的問題\n",
    "plot_Training_validation_loss(history_dict,'Training and validation loss')"
   ]
  },
  {
   "cell_type": "code",
   "execution_count": 29,
   "id": "8d62121b",
   "metadata": {},
   "outputs": [
    {
     "name": "stdout",
     "output_type": "stream",
     "text": [
      "Epoch 1/7\n",
      "16/16 [==============================] - 1s 47ms/step - loss: 2.7485 - accuracy: 0.5051 - val_loss: 1.7851 - val_accuracy: 0.6470\n",
      "Epoch 2/7\n",
      "16/16 [==============================] - 1s 35ms/step - loss: 1.4346 - accuracy: 0.7060 - val_loss: 1.2973 - val_accuracy: 0.7070\n",
      "Epoch 3/7\n",
      "16/16 [==============================] - 1s 43ms/step - loss: 1.0469 - accuracy: 0.7762 - val_loss: 1.1348 - val_accuracy: 0.7510\n",
      "Epoch 4/7\n",
      "16/16 [==============================] - 1s 38ms/step - loss: 0.8256 - accuracy: 0.8262 - val_loss: 1.0232 - val_accuracy: 0.7880\n",
      "Epoch 5/7\n",
      "16/16 [==============================] - 1s 37ms/step - loss: 0.6616 - accuracy: 0.8582 - val_loss: 0.9572 - val_accuracy: 0.8060\n",
      "Epoch 6/7\n",
      "16/16 [==============================] - 1s 38ms/step - loss: 0.5301 - accuracy: 0.8903 - val_loss: 0.9187 - val_accuracy: 0.8140\n",
      "Epoch 7/7\n",
      "16/16 [==============================] - 1s 36ms/step - loss: 0.4317 - accuracy: 0.9109 - val_loss: 0.9369 - val_accuracy: 0.8030\n",
      "71/71 [==============================] - 0s 3ms/step - loss: 1.0220 - accuracy: 0.7711\n"
     ]
    }
   ],
   "source": [
    "model = models.Sequential()\n",
    "model.add(layers.Dense(64, activation='relu', input_shape=(10000,)))\n",
    "model.add(layers.Dense(64, activation='relu'))\n",
    "model.add(layers.Dense(46, activation='softmax'))\n",
    "\n",
    "model.compile(optimizer='rmsprop',\n",
    "              loss='categorical_crossentropy',\n",
    "              metrics=['accuracy'])\n",
    "model.fit(partial_x_train,\n",
    "          partial_y_train,\n",
    "          epochs=7,\n",
    "          batch_size=512,\n",
    "          validation_data=(x_val, y_val))\n",
    "results = model.evaluate(test_x, test_y)"
   ]
  },
  {
   "cell_type": "code",
   "execution_count": 34,
   "id": "d8463449",
   "metadata": {},
   "outputs": [
    {
     "data": {
      "text/plain": [
       "array([0.99999964, 0.99999994, 0.9999999 , ..., 0.99999964, 0.9999998 ,\n",
       "       1.        ], dtype=float32)"
      ]
     },
     "execution_count": 34,
     "metadata": {},
     "output_type": "execute_result"
    }
   ],
   "source": [
    "model.predict(test_x)\n",
    "np.sum(model.predict(test_x),axis=1)"
   ]
  }
 ],
 "metadata": {
  "kernelspec": {
   "display_name": "Python 3",
   "language": "python",
   "name": "python3"
  },
  "language_info": {
   "codemirror_mode": {
    "name": "ipython",
    "version": 3
   },
   "file_extension": ".py",
   "mimetype": "text/x-python",
   "name": "python",
   "nbconvert_exporter": "python",
   "pygments_lexer": "ipython3",
   "version": "3.8.8"
  }
 },
 "nbformat": 4,
 "nbformat_minor": 5
}
